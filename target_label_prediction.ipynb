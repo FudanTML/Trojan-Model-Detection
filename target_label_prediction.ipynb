{
 "cells": [
  {
   "cell_type": "code",
   "execution_count": 1,
   "id": "ce2cc4d4",
   "metadata": {},
   "outputs": [],
   "source": [
    "import torch\n",
    "import numpy as np\n",
    "import torchvision\n",
    "from torch.nn import CrossEntropyLoss\n",
    "import tqdm\n",
    "from torch.utils.data import DataLoader, TensorDataset\n",
    "import matplotlib.pyplot as plt\n",
    "import random\n",
    "from config import get_argument\n",
    "import json"
   ]
  },
  {
   "cell_type": "code",
   "execution_count": 2,
   "id": "de579ad5",
   "metadata": {},
   "outputs": [],
   "source": [
    "def train(model, target_label, train_loader, param):\n",
    "    print(\"Processing label: {}\".format(target_label))\n",
    "\n",
    "    width, height = param[\"image_size\"]\n",
    "    trigger = torch.rand((3, width, height), requires_grad=True)\n",
    "    trigger = trigger.to(device).detach().requires_grad_(True)\n",
    "    mask = torch.rand((width, height), requires_grad=True)\n",
    "    mask = mask.to(device).detach().requires_grad_(True)\n",
    "\n",
    "    Epochs = param[\"Epochs\"]\n",
    "    lamda = param[\"lamda\"]\n",
    "\n",
    "    min_norm = np.inf\n",
    "    min_norm_count = 0\n",
    "\n",
    "    criterion = CrossEntropyLoss()\n",
    "    optimizer = torch.optim.Adam([{\"params\": trigger},{\"params\": mask}],lr=0.005)\n",
    "    model.to(device)\n",
    "    model.eval()\n",
    "\n",
    "    for epoch in range(Epochs):\n",
    "        norm = 0.0\n",
    "        for images, _ in tqdm.tqdm(train_loader, desc='Epoch %3d' % (epoch + 1)):\n",
    "            optimizer.zero_grad()\n",
    "            images = images.to(device)\n",
    "            trojan_images = (1 - torch.unsqueeze(mask, dim=0)) * images + torch.unsqueeze(mask, dim=0) * trigger\n",
    "            y_pred = model(trojan_images)\n",
    "            y_target = torch.full((y_pred.size(0),), target_label, dtype=torch.long).to(device)\n",
    "            loss = criterion(y_pred, y_target) + lamda * torch.sum(torch.abs(mask))\n",
    "            loss.backward()\n",
    "            optimizer.step()\n",
    "\n",
    "            # figure norm\n",
    "            with torch.no_grad():\n",
    "                # 防止trigger和norm越界\n",
    "                torch.clip_(trigger, 0, 1)\n",
    "                torch.clip_(mask, 0, 1)\n",
    "                norm = torch.sum(torch.abs(mask))\n",
    "\n",
    "        # to early stop\n",
    "        if norm < min_norm:\n",
    "            min_norm = norm\n",
    "            min_norm_count = 0\n",
    "        else:\n",
    "            min_norm_count += 1\n",
    "\n",
    "        if min_norm_count > 30:\n",
    "            break\n",
    "            \n",
    "    print(\"min norm\"+str(min_norm))\n",
    "\n",
    "    return trigger.cpu(), min_norm.cpu()"
   ]
  },
  {
   "cell_type": "code",
   "execution_count": 3,
   "id": "b5359f6f",
   "metadata": {},
   "outputs": [],
   "source": [
    "class augDataset_npy(torch.utils.data.Dataset):\n",
    "    def __init__(self, full_dataset=None, transform=None):\n",
    "        self.dataset = full_dataset\n",
    "        self.transform = transform\n",
    "        self.dataLen = len(self.dataset)\n",
    "\n",
    "    def __getitem__(self, index):\n",
    "        image = self.dataset[index][0]\n",
    "        label = self.dataset[index][1]\n",
    "\n",
    "        if self.transform:\n",
    "            image = self.transform(image)\n",
    "        return image, label\n",
    "\n",
    "    def __len__(self):\n",
    "        return self.dataLen"
   ]
  },
  {
   "cell_type": "code",
   "execution_count": 4,
   "id": "618312d6",
   "metadata": {},
   "outputs": [],
   "source": [
    "def reverse_engineer(model_id, para_lamda):\n",
    "    param = {\n",
    "        \"dataset\": \"cifar10\",\n",
    "        \"Epochs\": 20,\n",
    "        \"batch_size\": 64,\n",
    "        \"lamda\": para_lamda,\n",
    "        \"num_classes\": 10,\n",
    "        \"image_size\": (32, 32),\n",
    "        \"ratio\": 0.005\n",
    "    }\n",
    "    model = torch.load(\"/media/server/8961e245-931a-4871-9f74-9df58b1bd938/server/lyg/tdc-starter-kit-main/tdc_datasets/target_label_prediction/train/id-\"+str(model_id)+\"/model.pt\").to(device)\n",
    "\n",
    "    \n",
    "    tf_train = torchvision.transforms.Compose([  \n",
    "        torchvision.transforms.ToTensor(),\n",
    "    ])\n",
    "    \n",
    "    train_dataset = torchvision.datasets.CIFAR10(root='/media/server/8961e245-931a-4871-9f74-9df58b1bd938/server/lyg/CIFAR10_GTSRB_dynamic_and_flooding/flooding/data', train=False, download=False)\n",
    "\n",
    "    list_ = []\n",
    "    count = [0]*param[\"num_classes\"]\n",
    "    threshold = int(param[\"ratio\"]*len(train_dataset))\n",
    "    for i in train_dataset:# 这段仅是用来调整个别类别的数量\n",
    "        if count[i[1]] < threshold:\n",
    "            list_.append(i)\n",
    "            count[i[1]] += 1\n",
    "    train_dataset = list_\n",
    "    count = [0]*param[\"num_classes\"]\n",
    "\n",
    "    train_dataset = augDataset_npy(full_dataset=train_dataset, transform=tf_train)\n",
    "    train_loader = DataLoader(\n",
    "        train_dataset,\n",
    "        batch_size = param[\"batch_size\"],\n",
    "        shuffle=False,\n",
    "        num_workers=0,\n",
    "        pin_memory=False,\n",
    ")\n",
    "    \n",
    "\n",
    "    for label in range(param[\"num_classes\"]):\n",
    "        trigger, mask = train(model, label, train_loader, param)\n",
    "        norm_list.append(mask)\n",
    "\n",
    "        trigger = trigger.cpu().detach().numpy()\n",
    "        trigger = np.transpose(trigger, (1,2,0))\n",
    "        plt.axis(\"off\")\n",
    "        plt.imshow(trigger)\n",
    "        plt.savefig('mask/trigger_{}.png'.format(label), bbox_inches='tight', pad_inches=0.0)\n",
    "\n",
    "        mask = mask.cpu().detach().numpy()\n",
    "        plt.axis(\"off\")\n",
    "    \n",
    "    l1_norm_list = norm_list[-param[\"num_classes\"]:]\n",
    "    list_target = [0]*param[\"num_classes\"]\n",
    "    for i in range(len(list_target)):\n",
    "        list_target[i] = i\n",
    "    flag_label = outlier_detection(l1_norm_list, list_target)\n",
    "        \n",
    "    \n",
    "    print(\"flag label:\"+str(flag_label))\n",
    "    return flag_label"
   ]
  },
  {
   "cell_type": "code",
   "execution_count": 5,
   "id": "00415209",
   "metadata": {},
   "outputs": [],
   "source": [
    "def outlier_detection(l1_norm_list, idx_mapping):\n",
    "    print(\"-\" * 30)\n",
    "    print(\"Determining whether model is backdoor\")\n",
    "    consistency_constant = 1.4826\n",
    "    l1_norm_list = torch.tensor(l1_norm_list)\n",
    "    median = torch.median(l1_norm_list)  # 返回中位数\n",
    "    mad = consistency_constant * torch.median(torch.abs(l1_norm_list - median))  # 常数乘以范数减去中位数之后的中位数\n",
    "    min_mad = torch.abs(torch.min(l1_norm_list) - median) / mad  # 范数中最小值减去中位数之后除以mad的绝对值\n",
    "\n",
    "    print(\"Median: {}, MAD: {}\".format(median, mad))\n",
    "    print(\"Anomaly index: {}\".format(min_mad))\n",
    "    \n",
    "    \n",
    "    if min_mad < 2:  # 判断是否为后门模型\n",
    "        print(\"Not a backdoor model\")\n",
    "    else:\n",
    "        print(\"This is a backdoor model\")\n",
    "\n",
    "\n",
    "    flag_list = []\n",
    "    for y_label in idx_mapping:  # 记录异常的类别及其mask的范数\n",
    "        if l1_norm_list[idx_mapping[y_label]] > median:\n",
    "            continue\n",
    "        if torch.abs(l1_norm_list[idx_mapping[y_label]] - median) / mad > 2:\n",
    "            flag_list.append((y_label, l1_norm_list[idx_mapping[y_label]]))\n",
    "\n",
    "    if len(flag_list) > 0:  # 若有不少于一个异常类别，则取异常值最小的\n",
    "        flag_list = sorted(flag_list, key=lambda x: x[1])\n",
    "    \n",
    "    if flag_list==[]:\n",
    "        return float(\"inf\")\n",
    "    else:\n",
    "        return flag_list[0][0]"
   ]
  },
  {
   "cell_type": "code",
   "execution_count": 6,
   "id": "b7eb25f2",
   "metadata": {},
   "outputs": [
    {
     "name": "stdout",
     "output_type": "stream",
     "text": [
      "Model ID:0001\n",
      "Dataset:CIFAR-10\n",
      "Processing label: 0\n"
     ]
    },
    {
     "name": "stderr",
     "output_type": "stream",
     "text": [
      "Epoch   1: 100%|██████████████████████████████████| 8/8 [00:00<00:00, 11.56it/s]\n",
      "Epoch   2: 100%|██████████████████████████████████| 8/8 [00:00<00:00, 55.57it/s]\n",
      "Epoch   3: 100%|██████████████████████████████████| 8/8 [00:00<00:00, 58.30it/s]\n",
      "Epoch   4: 100%|██████████████████████████████████| 8/8 [00:00<00:00, 57.71it/s]\n",
      "Epoch   5: 100%|██████████████████████████████████| 8/8 [00:00<00:00, 57.17it/s]\n",
      "Epoch   6: 100%|██████████████████████████████████| 8/8 [00:00<00:00, 52.38it/s]\n",
      "Epoch   7: 100%|██████████████████████████████████| 8/8 [00:00<00:00, 52.73it/s]\n",
      "Epoch   8: 100%|██████████████████████████████████| 8/8 [00:00<00:00, 52.56it/s]\n",
      "Epoch   9: 100%|██████████████████████████████████| 8/8 [00:00<00:00, 50.93it/s]\n",
      "Epoch  10: 100%|██████████████████████████████████| 8/8 [00:00<00:00, 51.26it/s]\n",
      "Epoch  11: 100%|██████████████████████████████████| 8/8 [00:00<00:00, 53.52it/s]\n",
      "Epoch  12: 100%|██████████████████████████████████| 8/8 [00:00<00:00, 57.91it/s]\n",
      "Epoch  13: 100%|██████████████████████████████████| 8/8 [00:00<00:00, 56.27it/s]\n",
      "Epoch  14: 100%|██████████████████████████████████| 8/8 [00:00<00:00, 55.44it/s]\n",
      "Epoch  15: 100%|██████████████████████████████████| 8/8 [00:00<00:00, 56.49it/s]\n",
      "Epoch  16: 100%|██████████████████████████████████| 8/8 [00:00<00:00, 56.14it/s]\n",
      "Epoch  17: 100%|██████████████████████████████████| 8/8 [00:00<00:00, 52.68it/s]\n",
      "Epoch  18: 100%|██████████████████████████████████| 8/8 [00:00<00:00, 51.25it/s]\n",
      "Epoch  19: 100%|██████████████████████████████████| 8/8 [00:00<00:00, 51.85it/s]\n",
      "Epoch  20: 100%|██████████████████████████████████| 8/8 [00:00<00:00, 51.04it/s]\n"
     ]
    },
    {
     "name": "stdout",
     "output_type": "stream",
     "text": [
      "min normtensor(189.7893, device='cuda:0')\n",
      "Processing label: 1\n"
     ]
    },
    {
     "name": "stderr",
     "output_type": "stream",
     "text": [
      "Epoch   1: 100%|██████████████████████████████████| 8/8 [00:00<00:00, 50.52it/s]\n",
      "Epoch   2: 100%|██████████████████████████████████| 8/8 [00:00<00:00, 50.85it/s]\n",
      "Epoch   3: 100%|██████████████████████████████████| 8/8 [00:00<00:00, 50.60it/s]\n",
      "Epoch   4: 100%|██████████████████████████████████| 8/8 [00:00<00:00, 50.19it/s]\n",
      "Epoch   5: 100%|██████████████████████████████████| 8/8 [00:00<00:00, 49.99it/s]\n",
      "Epoch   6: 100%|██████████████████████████████████| 8/8 [00:00<00:00, 50.80it/s]\n",
      "Epoch   7: 100%|██████████████████████████████████| 8/8 [00:00<00:00, 51.18it/s]\n",
      "Epoch   8: 100%|██████████████████████████████████| 8/8 [00:00<00:00, 52.06it/s]\n",
      "Epoch   9: 100%|██████████████████████████████████| 8/8 [00:00<00:00, 57.11it/s]\n",
      "Epoch  10: 100%|██████████████████████████████████| 8/8 [00:00<00:00, 59.34it/s]\n",
      "Epoch  11: 100%|██████████████████████████████████| 8/8 [00:00<00:00, 66.54it/s]\n",
      "Epoch  12: 100%|██████████████████████████████████| 8/8 [00:00<00:00, 64.94it/s]\n",
      "Epoch  13: 100%|██████████████████████████████████| 8/8 [00:00<00:00, 65.60it/s]\n",
      "Epoch  14: 100%|██████████████████████████████████| 8/8 [00:00<00:00, 65.06it/s]\n",
      "Epoch  15: 100%|██████████████████████████████████| 8/8 [00:00<00:00, 66.77it/s]\n",
      "Epoch  16: 100%|██████████████████████████████████| 8/8 [00:00<00:00, 66.31it/s]\n",
      "Epoch  17: 100%|██████████████████████████████████| 8/8 [00:00<00:00, 65.06it/s]\n",
      "Epoch  18: 100%|██████████████████████████████████| 8/8 [00:00<00:00, 63.65it/s]\n",
      "Epoch  19: 100%|██████████████████████████████████| 8/8 [00:00<00:00, 63.57it/s]\n",
      "Epoch  20: 100%|██████████████████████████████████| 8/8 [00:00<00:00, 61.47it/s]\n"
     ]
    },
    {
     "name": "stdout",
     "output_type": "stream",
     "text": [
      "min normtensor(215.3327, device='cuda:0')\n",
      "Processing label: 2\n"
     ]
    },
    {
     "name": "stderr",
     "output_type": "stream",
     "text": [
      "Epoch   1: 100%|██████████████████████████████████| 8/8 [00:00<00:00, 64.59it/s]\n",
      "Epoch   2: 100%|██████████████████████████████████| 8/8 [00:00<00:00, 63.88it/s]\n",
      "Epoch   3: 100%|██████████████████████████████████| 8/8 [00:00<00:00, 67.06it/s]\n",
      "Epoch   4: 100%|██████████████████████████████████| 8/8 [00:00<00:00, 65.86it/s]\n",
      "Epoch   5: 100%|██████████████████████████████████| 8/8 [00:00<00:00, 64.32it/s]\n",
      "Epoch   6: 100%|██████████████████████████████████| 8/8 [00:00<00:00, 65.31it/s]\n",
      "Epoch   7: 100%|██████████████████████████████████| 8/8 [00:00<00:00, 65.21it/s]\n",
      "Epoch   8: 100%|██████████████████████████████████| 8/8 [00:00<00:00, 62.11it/s]\n",
      "Epoch   9: 100%|██████████████████████████████████| 8/8 [00:00<00:00, 60.62it/s]\n",
      "Epoch  10: 100%|██████████████████████████████████| 8/8 [00:00<00:00, 62.67it/s]\n",
      "Epoch  11: 100%|██████████████████████████████████| 8/8 [00:00<00:00, 61.59it/s]\n",
      "Epoch  12: 100%|██████████████████████████████████| 8/8 [00:00<00:00, 61.57it/s]\n",
      "Epoch  13: 100%|██████████████████████████████████| 8/8 [00:00<00:00, 62.12it/s]\n",
      "Epoch  14: 100%|██████████████████████████████████| 8/8 [00:00<00:00, 62.63it/s]\n",
      "Epoch  15: 100%|██████████████████████████████████| 8/8 [00:00<00:00, 61.88it/s]\n",
      "Epoch  16: 100%|██████████████████████████████████| 8/8 [00:00<00:00, 62.50it/s]\n",
      "Epoch  17: 100%|██████████████████████████████████| 8/8 [00:00<00:00, 62.22it/s]\n",
      "Epoch  18: 100%|██████████████████████████████████| 8/8 [00:00<00:00, 61.65it/s]\n",
      "Epoch  19: 100%|██████████████████████████████████| 8/8 [00:00<00:00, 66.58it/s]\n",
      "Epoch  20: 100%|██████████████████████████████████| 8/8 [00:00<00:00, 66.68it/s]\n"
     ]
    },
    {
     "name": "stdout",
     "output_type": "stream",
     "text": [
      "min normtensor(72.7280, device='cuda:0')\n",
      "Processing label: 3\n"
     ]
    },
    {
     "name": "stderr",
     "output_type": "stream",
     "text": [
      "Epoch   1: 100%|██████████████████████████████████| 8/8 [00:00<00:00, 66.01it/s]\n",
      "Epoch   2: 100%|██████████████████████████████████| 8/8 [00:00<00:00, 66.70it/s]\n",
      "Epoch   3: 100%|██████████████████████████████████| 8/8 [00:00<00:00, 66.60it/s]\n",
      "Epoch   4: 100%|██████████████████████████████████| 8/8 [00:00<00:00, 66.66it/s]\n",
      "Epoch   5: 100%|██████████████████████████████████| 8/8 [00:00<00:00, 66.67it/s]\n",
      "Epoch   6: 100%|██████████████████████████████████| 8/8 [00:00<00:00, 64.51it/s]\n",
      "Epoch   7: 100%|██████████████████████████████████| 8/8 [00:00<00:00, 54.54it/s]\n",
      "Epoch   8: 100%|██████████████████████████████████| 8/8 [00:00<00:00, 54.79it/s]\n",
      "Epoch   9: 100%|██████████████████████████████████| 8/8 [00:00<00:00, 54.76it/s]\n",
      "Epoch  10: 100%|██████████████████████████████████| 8/8 [00:00<00:00, 54.59it/s]\n",
      "Epoch  11: 100%|██████████████████████████████████| 8/8 [00:00<00:00, 54.85it/s]\n",
      "Epoch  12: 100%|██████████████████████████████████| 8/8 [00:00<00:00, 54.90it/s]\n",
      "Epoch  13: 100%|██████████████████████████████████| 8/8 [00:00<00:00, 52.40it/s]\n",
      "Epoch  14: 100%|██████████████████████████████████| 8/8 [00:00<00:00, 51.87it/s]\n",
      "Epoch  15: 100%|██████████████████████████████████| 8/8 [00:00<00:00, 51.30it/s]\n",
      "Epoch  16: 100%|██████████████████████████████████| 8/8 [00:00<00:00, 51.26it/s]\n",
      "Epoch  17: 100%|██████████████████████████████████| 8/8 [00:00<00:00, 54.32it/s]\n",
      "Epoch  18: 100%|██████████████████████████████████| 8/8 [00:00<00:00, 53.71it/s]\n",
      "Epoch  19: 100%|██████████████████████████████████| 8/8 [00:00<00:00, 54.42it/s]\n",
      "Epoch  20: 100%|██████████████████████████████████| 8/8 [00:00<00:00, 54.44it/s]\n"
     ]
    },
    {
     "name": "stdout",
     "output_type": "stream",
     "text": [
      "min normtensor(181.3761, device='cuda:0')\n",
      "Processing label: 4\n"
     ]
    },
    {
     "name": "stderr",
     "output_type": "stream",
     "text": [
      "Epoch   1: 100%|██████████████████████████████████| 8/8 [00:00<00:00, 54.21it/s]\n",
      "Epoch   2: 100%|██████████████████████████████████| 8/8 [00:00<00:00, 54.44it/s]\n",
      "Epoch   3: 100%|██████████████████████████████████| 8/8 [00:00<00:00, 50.73it/s]\n",
      "Epoch   4: 100%|██████████████████████████████████| 8/8 [00:00<00:00, 50.78it/s]\n",
      "Epoch   5: 100%|██████████████████████████████████| 8/8 [00:00<00:00, 51.04it/s]\n",
      "Epoch   6: 100%|██████████████████████████████████| 8/8 [00:00<00:00, 53.20it/s]\n",
      "Epoch   7: 100%|██████████████████████████████████| 8/8 [00:00<00:00, 53.88it/s]\n",
      "Epoch   8: 100%|██████████████████████████████████| 8/8 [00:00<00:00, 53.86it/s]\n",
      "Epoch   9: 100%|██████████████████████████████████| 8/8 [00:00<00:00, 54.09it/s]\n",
      "Epoch  10: 100%|██████████████████████████████████| 8/8 [00:00<00:00, 54.19it/s]\n",
      "Epoch  11: 100%|██████████████████████████████████| 8/8 [00:00<00:00, 54.01it/s]\n",
      "Epoch  12: 100%|██████████████████████████████████| 8/8 [00:00<00:00, 54.17it/s]\n",
      "Epoch  13: 100%|██████████████████████████████████| 8/8 [00:00<00:00, 54.06it/s]\n",
      "Epoch  14: 100%|██████████████████████████████████| 8/8 [00:00<00:00, 54.01it/s]\n",
      "Epoch  15: 100%|██████████████████████████████████| 8/8 [00:00<00:00, 54.15it/s]\n",
      "Epoch  16: 100%|██████████████████████████████████| 8/8 [00:00<00:00, 53.99it/s]\n",
      "Epoch  17: 100%|██████████████████████████████████| 8/8 [00:00<00:00, 54.03it/s]\n",
      "Epoch  18: 100%|██████████████████████████████████| 8/8 [00:00<00:00, 54.05it/s]\n",
      "Epoch  19: 100%|██████████████████████████████████| 8/8 [00:00<00:00, 54.12it/s]\n",
      "Epoch  20: 100%|██████████████████████████████████| 8/8 [00:00<00:00, 54.01it/s]\n"
     ]
    },
    {
     "name": "stdout",
     "output_type": "stream",
     "text": [
      "min normtensor(182.4987, device='cuda:0')\n",
      "Processing label: 5\n"
     ]
    },
    {
     "name": "stderr",
     "output_type": "stream",
     "text": [
      "Epoch   1: 100%|██████████████████████████████████| 8/8 [00:00<00:00, 54.00it/s]\n",
      "Epoch   2: 100%|██████████████████████████████████| 8/8 [00:00<00:00, 54.01it/s]\n",
      "Epoch   3: 100%|██████████████████████████████████| 8/8 [00:00<00:00, 54.15it/s]\n",
      "Epoch   4: 100%|██████████████████████████████████| 8/8 [00:00<00:00, 54.16it/s]\n",
      "Epoch   5: 100%|██████████████████████████████████| 8/8 [00:00<00:00, 54.16it/s]\n",
      "Epoch   6: 100%|██████████████████████████████████| 8/8 [00:00<00:00, 54.10it/s]\n",
      "Epoch   7: 100%|██████████████████████████████████| 8/8 [00:00<00:00, 54.11it/s]\n",
      "Epoch   8: 100%|██████████████████████████████████| 8/8 [00:00<00:00, 54.10it/s]\n",
      "Epoch   9: 100%|██████████████████████████████████| 8/8 [00:00<00:00, 54.00it/s]\n",
      "Epoch  10: 100%|██████████████████████████████████| 8/8 [00:00<00:00, 50.05it/s]\n",
      "Epoch  11: 100%|██████████████████████████████████| 8/8 [00:00<00:00, 51.86it/s]\n",
      "Epoch  12: 100%|██████████████████████████████████| 8/8 [00:00<00:00, 50.47it/s]\n",
      "Epoch  13: 100%|██████████████████████████████████| 8/8 [00:00<00:00, 51.35it/s]\n",
      "Epoch  14: 100%|██████████████████████████████████| 8/8 [00:00<00:00, 53.61it/s]\n",
      "Epoch  15: 100%|██████████████████████████████████| 8/8 [00:00<00:00, 54.02it/s]\n",
      "Epoch  16: 100%|██████████████████████████████████| 8/8 [00:00<00:00, 54.23it/s]\n",
      "Epoch  17: 100%|██████████████████████████████████| 8/8 [00:00<00:00, 54.32it/s]\n",
      "Epoch  18: 100%|██████████████████████████████████| 8/8 [00:00<00:00, 54.19it/s]\n",
      "Epoch  19: 100%|██████████████████████████████████| 8/8 [00:00<00:00, 53.38it/s]\n",
      "Epoch  20: 100%|██████████████████████████████████| 8/8 [00:00<00:00, 52.55it/s]\n"
     ]
    },
    {
     "name": "stdout",
     "output_type": "stream",
     "text": [
      "min normtensor(187.0743, device='cuda:0')\n",
      "Processing label: 6\n"
     ]
    },
    {
     "name": "stderr",
     "output_type": "stream",
     "text": [
      "Epoch   1: 100%|██████████████████████████████████| 8/8 [00:00<00:00, 52.41it/s]\n",
      "Epoch   2: 100%|██████████████████████████████████| 8/8 [00:00<00:00, 52.84it/s]\n",
      "Epoch   3: 100%|██████████████████████████████████| 8/8 [00:00<00:00, 54.29it/s]\n",
      "Epoch   4: 100%|██████████████████████████████████| 8/8 [00:00<00:00, 53.47it/s]\n",
      "Epoch   5: 100%|██████████████████████████████████| 8/8 [00:00<00:00, 54.16it/s]\n",
      "Epoch   6: 100%|██████████████████████████████████| 8/8 [00:00<00:00, 54.27it/s]\n",
      "Epoch   7: 100%|██████████████████████████████████| 8/8 [00:00<00:00, 49.66it/s]\n",
      "Epoch   8: 100%|██████████████████████████████████| 8/8 [00:00<00:00, 50.05it/s]\n",
      "Epoch   9: 100%|██████████████████████████████████| 8/8 [00:00<00:00, 54.07it/s]\n",
      "Epoch  10: 100%|██████████████████████████████████| 8/8 [00:00<00:00, 54.23it/s]\n",
      "Epoch  11: 100%|██████████████████████████████████| 8/8 [00:00<00:00, 54.28it/s]\n",
      "Epoch  12: 100%|██████████████████████████████████| 8/8 [00:00<00:00, 50.52it/s]\n",
      "Epoch  13: 100%|██████████████████████████████████| 8/8 [00:00<00:00, 51.12it/s]\n",
      "Epoch  14: 100%|██████████████████████████████████| 8/8 [00:00<00:00, 53.94it/s]\n",
      "Epoch  15: 100%|██████████████████████████████████| 8/8 [00:00<00:00, 54.02it/s]\n",
      "Epoch  16: 100%|██████████████████████████████████| 8/8 [00:00<00:00, 52.98it/s]\n",
      "Epoch  17: 100%|██████████████████████████████████| 8/8 [00:00<00:00, 49.06it/s]\n",
      "Epoch  18: 100%|██████████████████████████████████| 8/8 [00:00<00:00, 51.14it/s]\n",
      "Epoch  19: 100%|██████████████████████████████████| 8/8 [00:00<00:00, 53.85it/s]\n",
      "Epoch  20: 100%|██████████████████████████████████| 8/8 [00:00<00:00, 49.51it/s]\n"
     ]
    },
    {
     "name": "stdout",
     "output_type": "stream",
     "text": [
      "min normtensor(145.7017, device='cuda:0')\n",
      "Processing label: 7\n"
     ]
    },
    {
     "name": "stderr",
     "output_type": "stream",
     "text": [
      "Epoch   1: 100%|██████████████████████████████████| 8/8 [00:00<00:00, 53.68it/s]\n",
      "Epoch   2: 100%|██████████████████████████████████| 8/8 [00:00<00:00, 50.10it/s]\n",
      "Epoch   3: 100%|██████████████████████████████████| 8/8 [00:00<00:00, 52.42it/s]\n",
      "Epoch   4: 100%|██████████████████████████████████| 8/8 [00:00<00:00, 52.49it/s]\n",
      "Epoch   5: 100%|██████████████████████████████████| 8/8 [00:00<00:00, 48.19it/s]\n",
      "Epoch   6: 100%|██████████████████████████████████| 8/8 [00:00<00:00, 50.26it/s]\n",
      "Epoch   7: 100%|██████████████████████████████████| 8/8 [00:00<00:00, 50.23it/s]\n",
      "Epoch   8: 100%|██████████████████████████████████| 8/8 [00:00<00:00, 53.65it/s]\n",
      "Epoch   9: 100%|██████████████████████████████████| 8/8 [00:00<00:00, 53.54it/s]\n",
      "Epoch  10: 100%|██████████████████████████████████| 8/8 [00:00<00:00, 54.13it/s]\n",
      "Epoch  11: 100%|██████████████████████████████████| 8/8 [00:00<00:00, 54.14it/s]\n",
      "Epoch  12: 100%|██████████████████████████████████| 8/8 [00:00<00:00, 53.17it/s]\n",
      "Epoch  13: 100%|██████████████████████████████████| 8/8 [00:00<00:00, 48.52it/s]\n",
      "Epoch  14: 100%|██████████████████████████████████| 8/8 [00:00<00:00, 51.58it/s]\n",
      "Epoch  15: 100%|██████████████████████████████████| 8/8 [00:00<00:00, 54.12it/s]\n",
      "Epoch  16: 100%|██████████████████████████████████| 8/8 [00:00<00:00, 54.15it/s]\n",
      "Epoch  17: 100%|██████████████████████████████████| 8/8 [00:00<00:00, 54.15it/s]\n",
      "Epoch  18: 100%|██████████████████████████████████| 8/8 [00:00<00:00, 54.00it/s]\n",
      "Epoch  19: 100%|██████████████████████████████████| 8/8 [00:00<00:00, 54.08it/s]\n",
      "Epoch  20: 100%|██████████████████████████████████| 8/8 [00:00<00:00, 51.83it/s]\n"
     ]
    },
    {
     "name": "stdout",
     "output_type": "stream",
     "text": [
      "min normtensor(229.0486, device='cuda:0')\n",
      "Processing label: 8\n"
     ]
    },
    {
     "name": "stderr",
     "output_type": "stream",
     "text": [
      "Epoch   1: 100%|██████████████████████████████████| 8/8 [00:00<00:00, 51.29it/s]\n",
      "Epoch   2: 100%|██████████████████████████████████| 8/8 [00:00<00:00, 51.39it/s]\n",
      "Epoch   3: 100%|██████████████████████████████████| 8/8 [00:00<00:00, 51.39it/s]\n",
      "Epoch   4: 100%|██████████████████████████████████| 8/8 [00:00<00:00, 49.21it/s]\n",
      "Epoch   5: 100%|██████████████████████████████████| 8/8 [00:00<00:00, 53.87it/s]\n",
      "Epoch   6: 100%|██████████████████████████████████| 8/8 [00:00<00:00, 52.88it/s]\n",
      "Epoch   7: 100%|██████████████████████████████████| 8/8 [00:00<00:00, 56.48it/s]\n",
      "Epoch   8: 100%|██████████████████████████████████| 8/8 [00:00<00:00, 59.84it/s]\n",
      "Epoch   9: 100%|██████████████████████████████████| 8/8 [00:00<00:00, 59.89it/s]\n",
      "Epoch  10: 100%|██████████████████████████████████| 8/8 [00:00<00:00, 59.74it/s]\n",
      "Epoch  11: 100%|██████████████████████████████████| 8/8 [00:00<00:00, 59.66it/s]\n",
      "Epoch  12: 100%|██████████████████████████████████| 8/8 [00:00<00:00, 59.52it/s]\n",
      "Epoch  13: 100%|██████████████████████████████████| 8/8 [00:00<00:00, 60.69it/s]\n",
      "Epoch  14: 100%|██████████████████████████████████| 8/8 [00:00<00:00, 65.73it/s]\n",
      "Epoch  15: 100%|██████████████████████████████████| 8/8 [00:00<00:00, 70.27it/s]\n",
      "Epoch  16: 100%|██████████████████████████████████| 8/8 [00:00<00:00, 62.03it/s]\n",
      "Epoch  17: 100%|██████████████████████████████████| 8/8 [00:00<00:00, 62.79it/s]\n",
      "Epoch  18: 100%|██████████████████████████████████| 8/8 [00:00<00:00, 70.14it/s]\n",
      "Epoch  19: 100%|██████████████████████████████████| 8/8 [00:00<00:00, 70.09it/s]\n",
      "Epoch  20: 100%|██████████████████████████████████| 8/8 [00:00<00:00, 70.16it/s]\n"
     ]
    },
    {
     "name": "stdout",
     "output_type": "stream",
     "text": [
      "min normtensor(202.3444, device='cuda:0')\n",
      "Processing label: 9\n"
     ]
    },
    {
     "name": "stderr",
     "output_type": "stream",
     "text": [
      "Epoch   1: 100%|██████████████████████████████████| 8/8 [00:00<00:00, 67.90it/s]\n",
      "Epoch   2: 100%|██████████████████████████████████| 8/8 [00:00<00:00, 61.06it/s]\n",
      "Epoch   3: 100%|██████████████████████████████████| 8/8 [00:00<00:00, 69.61it/s]\n",
      "Epoch   4: 100%|██████████████████████████████████| 8/8 [00:00<00:00, 66.56it/s]\n",
      "Epoch   5: 100%|██████████████████████████████████| 8/8 [00:00<00:00, 60.51it/s]\n",
      "Epoch   6: 100%|██████████████████████████████████| 8/8 [00:00<00:00, 69.36it/s]\n",
      "Epoch   7: 100%|██████████████████████████████████| 8/8 [00:00<00:00, 70.30it/s]\n",
      "Epoch   8: 100%|██████████████████████████████████| 8/8 [00:00<00:00, 70.31it/s]\n",
      "Epoch   9: 100%|██████████████████████████████████| 8/8 [00:00<00:00, 70.48it/s]\n",
      "Epoch  10: 100%|██████████████████████████████████| 8/8 [00:00<00:00, 70.48it/s]\n",
      "Epoch  11: 100%|██████████████████████████████████| 8/8 [00:00<00:00, 70.41it/s]\n",
      "Epoch  12: 100%|██████████████████████████████████| 8/8 [00:00<00:00, 70.45it/s]\n",
      "Epoch  13: 100%|██████████████████████████████████| 8/8 [00:00<00:00, 70.40it/s]\n",
      "Epoch  14: 100%|██████████████████████████████████| 8/8 [00:00<00:00, 65.49it/s]\n",
      "Epoch  15: 100%|██████████████████████████████████| 8/8 [00:00<00:00, 56.60it/s]\n",
      "Epoch  16: 100%|██████████████████████████████████| 8/8 [00:00<00:00, 57.24it/s]\n",
      "Epoch  17: 100%|██████████████████████████████████| 8/8 [00:00<00:00, 53.08it/s]\n",
      "Epoch  18: 100%|██████████████████████████████████| 8/8 [00:00<00:00, 56.51it/s]\n",
      "Epoch  19: 100%|██████████████████████████████████| 8/8 [00:00<00:00, 53.96it/s]\n",
      "Epoch  20: 100%|██████████████████████████████████| 8/8 [00:00<00:00, 49.51it/s]\n"
     ]
    },
    {
     "name": "stdout",
     "output_type": "stream",
     "text": [
      "min normtensor(197.1156, device='cuda:0')\n",
      "------------------------------\n",
      "Determining whether model is backdoor\n",
      "Median: 187.07427978515625, MAD: 14.887307167053223\n",
      "Anomaly index: 7.680792808532715\n",
      "This is a backdoor model\n",
      "flag label:2\n",
      "minium norm:tensor(72.7280) and its index:2\n"
     ]
    },
    {
     "data": {
      "image/png": "[encoded data removed]",
      "text/plain": [
       "<Figure size 432x288 with 1 Axes>"
      ]
     },
     "metadata": {
      "needs_background": "light"
     },
     "output_type": "display_data"
    }
   ],
   "source": [
    "device = torch.device(\"cuda:0\" if torch.cuda.is_available() else \"cpu\")\n",
    "# opt = get_argument().parse_args()\n",
    "\n",
    "model_id = \"1\" # 模型ID\n",
    "lamda = 0.01 # lamda值，影响NC的loss\n",
    "while len(model_id)<4:\n",
    "    model_id = \"0\"+model_id\n",
    "\n",
    "f = open(\"/media/server/8961e245-931a-4871-9f74-9df58b1bd938/server/lyg/tdc-starter-kit-main/tdc_datasets/target_label_prediction/train/id-\"+model_id+\"/info.json\", 'r')\n",
    "info = json.load(f)\n",
    "print((\"Model ID:\" + str(model_id)))\n",
    "print((\"Dataset:\" + info['dataset']))\n",
    "\n",
    "attack_specification = torch.load(\"/media/server/8961e245-931a-4871-9f74-9df58b1bd938/server/lyg/tdc-starter-kit-main/tdc_datasets/target_label_prediction/train/id-\"+model_id+\"/attack_specification.pt\")\n",
    "\n",
    "norm_list = []\n",
    "flag_label = reverse_engineer(model_id, lamda)\n",
    "\n",
    "minium_norm = float(\"inf\")\n",
    "minium_norm_index = float(\"inf\")\n",
    "for i in range(len(norm_list)):\n",
    "    if norm_list[i]<minium_norm:\n",
    "        minium_norm = norm_list[i]\n",
    "        minium_norm_index = i%10\n",
    "print(\"minium norm:\"+str(minium_norm)+\" and its index:\"+str(minium_norm_index))\n",
    "with open('train_results.txt','a+') as f:\n",
    "    f.write(\"\\n\")\n",
    "    f.write(\"Model ID:\" + str(model_id))\n",
    "    f.write(\"\\n\")\n",
    "    f.write(\"Dataset:\" + info['dataset'])\n",
    "    f.write(\"\\n\")\n",
    "    f.write(\"Attack type:\" + info['trigger_type'])\n",
    "    f.write(\"\\n\")\n",
    "    f.write(\"Target Label:\" + str(attack_specification['target_label']))\n",
    "    f.write(\"\\n\")\n",
    "    f.write(str(norm_list))\n",
    "    f.write(\"\\n\")\n",
    "    f.write(\"minium norm:\"+str(minium_norm)+\" and its index:\"+str(minium_norm_index))\n",
    "    f.write(\"\\n\")\n",
    "    f.close()"
   ]
  },
  {
   "cell_type": "code",
   "execution_count": null,
   "id": "f610647c",
   "metadata": {},
   "outputs": [],
   "source": []
  }
 ],
 "metadata": {
  "kernelspec": {
   "display_name": "Python 3 (ipykernel)",
   "language": "python",
   "name": "python3"
  },
  "language_info": {
   "codemirror_mode": {
    "name": "ipython",
    "version": 3
   },
   "file_extension": ".py",
   "mimetype": "text/x-python",
   "name": "python",
   "nbconvert_exporter": "python",
   "pygments_lexer": "ipython3",
   "version": "3.7.13"
  }
 },
 "nbformat": 4,
 "nbformat_minor": 5
}
